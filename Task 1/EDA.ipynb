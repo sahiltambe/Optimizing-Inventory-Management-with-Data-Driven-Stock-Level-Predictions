{
 "cells": [
  {
   "cell_type": "markdown",
   "metadata": {},
   "source": [
    "# Task 1 - Exploratory Data Analysis\n",
    "\n",
    "## Section 1 - Setup"
   ]
  },
  {
   "cell_type": "markdown",
   "metadata": {},
   "source": [
    "Unlock the power of data analysis with ease using Pandas, the essential toolkit for data manipulation. By loading your dataset into a Pandas dataframe, you gain access to a versatile platform for viewing, analyzing, and transforming your data. Seamlessly navigate through your tabulated data, harnessing its full potential to drive insights and informed decisions. With Pandas, the possibilities are limitless."
   ]
  },
  {
   "cell_type": "markdown",
   "metadata": {},
   "source": [
    "## EDA"
   ]
  },
  {
   "cell_type": "code",
   "execution_count": 1,
   "metadata": {},
   "outputs": [],
   "source": [
    "import pandas as pd\n",
    "from IPython.display import display\n",
    "import matplotlib.pyplot as plt"
   ]
  },
  {
   "cell_type": "markdown",
   "metadata": {},
   "source": [
    "---\n",
    "\n",
    "## Section 2 - Data loading\n",
    "\n",
    "Let's read this CSV file into a pandas dataframe and see what it looks like"
   ]
  },
  {
   "cell_type": "code",
   "execution_count": 2,
   "metadata": {},
   "outputs": [],
   "source": [
    "# Define the path to the CSV file within the \"artifact\" folder\n",
    "csv_file_path = \"artifacts/sample_sales_data.csv\"\n",
    "\n",
    "# Read the CSV file into the DataFrame df\n",
    "df1 = pd.read_csv(csv_file_path)"
   ]
  },
  {
   "cell_type": "code",
   "execution_count": 3,
   "metadata": {},
   "outputs": [
    {
     "data": {
      "text/html": [
       "<div>\n",
       "<style scoped>\n",
       "    .dataframe tbody tr th:only-of-type {\n",
       "        vertical-align: middle;\n",
       "    }\n",
       "\n",
       "    .dataframe tbody tr th {\n",
       "        vertical-align: top;\n",
       "    }\n",
       "\n",
       "    .dataframe thead th {\n",
       "        text-align: right;\n",
       "    }\n",
       "</style>\n",
       "<table border=\"1\" class=\"dataframe\">\n",
       "  <thead>\n",
       "    <tr style=\"text-align: right;\">\n",
       "      <th></th>\n",
       "      <th>Unnamed: 0</th>\n",
       "      <th>transaction_id</th>\n",
       "      <th>timestamp</th>\n",
       "      <th>product_id</th>\n",
       "      <th>category</th>\n",
       "      <th>customer_type</th>\n",
       "      <th>unit_price</th>\n",
       "      <th>quantity</th>\n",
       "      <th>total</th>\n",
       "      <th>payment_type</th>\n",
       "    </tr>\n",
       "  </thead>\n",
       "  <tbody>\n",
       "    <tr>\n",
       "      <th>0</th>\n",
       "      <td>0</td>\n",
       "      <td>a1c82654-c52c-45b3-8ce8-4c2a1efe63ed</td>\n",
       "      <td>2022-03-02 09:51:38</td>\n",
       "      <td>3bc6c1ea-0198-46de-9ffd-514ae3338713</td>\n",
       "      <td>fruit</td>\n",
       "      <td>gold</td>\n",
       "      <td>3.99</td>\n",
       "      <td>2</td>\n",
       "      <td>7.98</td>\n",
       "      <td>e-wallet</td>\n",
       "    </tr>\n",
       "    <tr>\n",
       "      <th>1</th>\n",
       "      <td>1</td>\n",
       "      <td>931ad550-09e8-4da6-beaa-8c9d17be9c60</td>\n",
       "      <td>2022-03-06 10:33:59</td>\n",
       "      <td>ad81b46c-bf38-41cf-9b54-5fe7f5eba93e</td>\n",
       "      <td>fruit</td>\n",
       "      <td>standard</td>\n",
       "      <td>3.99</td>\n",
       "      <td>1</td>\n",
       "      <td>3.99</td>\n",
       "      <td>e-wallet</td>\n",
       "    </tr>\n",
       "    <tr>\n",
       "      <th>2</th>\n",
       "      <td>2</td>\n",
       "      <td>ae133534-6f61-4cd6-b6b8-d1c1d8d90aea</td>\n",
       "      <td>2022-03-04 17:20:21</td>\n",
       "      <td>7c55cbd4-f306-4c04-a030-628cbe7867c1</td>\n",
       "      <td>fruit</td>\n",
       "      <td>premium</td>\n",
       "      <td>0.19</td>\n",
       "      <td>2</td>\n",
       "      <td>0.38</td>\n",
       "      <td>e-wallet</td>\n",
       "    </tr>\n",
       "    <tr>\n",
       "      <th>3</th>\n",
       "      <td>3</td>\n",
       "      <td>157cebd9-aaf0-475d-8a11-7c8e0f5b76e4</td>\n",
       "      <td>2022-03-02 17:23:58</td>\n",
       "      <td>80da8348-1707-403f-8be7-9e6deeccc883</td>\n",
       "      <td>fruit</td>\n",
       "      <td>gold</td>\n",
       "      <td>0.19</td>\n",
       "      <td>4</td>\n",
       "      <td>0.76</td>\n",
       "      <td>e-wallet</td>\n",
       "    </tr>\n",
       "    <tr>\n",
       "      <th>4</th>\n",
       "      <td>4</td>\n",
       "      <td>a81a6cd3-5e0c-44a2-826c-aea43e46c514</td>\n",
       "      <td>2022-03-05 14:32:43</td>\n",
       "      <td>7f5e86e6-f06f-45f6-bf44-27b095c9ad1d</td>\n",
       "      <td>fruit</td>\n",
       "      <td>basic</td>\n",
       "      <td>4.49</td>\n",
       "      <td>2</td>\n",
       "      <td>8.98</td>\n",
       "      <td>debit card</td>\n",
       "    </tr>\n",
       "  </tbody>\n",
       "</table>\n",
       "</div>"
      ],
      "text/plain": [
       "   Unnamed: 0                        transaction_id            timestamp  \\\n",
       "0           0  a1c82654-c52c-45b3-8ce8-4c2a1efe63ed  2022-03-02 09:51:38   \n",
       "1           1  931ad550-09e8-4da6-beaa-8c9d17be9c60  2022-03-06 10:33:59   \n",
       "2           2  ae133534-6f61-4cd6-b6b8-d1c1d8d90aea  2022-03-04 17:20:21   \n",
       "3           3  157cebd9-aaf0-475d-8a11-7c8e0f5b76e4  2022-03-02 17:23:58   \n",
       "4           4  a81a6cd3-5e0c-44a2-826c-aea43e46c514  2022-03-05 14:32:43   \n",
       "\n",
       "                             product_id category customer_type  unit_price  \\\n",
       "0  3bc6c1ea-0198-46de-9ffd-514ae3338713    fruit          gold        3.99   \n",
       "1  ad81b46c-bf38-41cf-9b54-5fe7f5eba93e    fruit      standard        3.99   \n",
       "2  7c55cbd4-f306-4c04-a030-628cbe7867c1    fruit       premium        0.19   \n",
       "3  80da8348-1707-403f-8be7-9e6deeccc883    fruit          gold        0.19   \n",
       "4  7f5e86e6-f06f-45f6-bf44-27b095c9ad1d    fruit         basic        4.49   \n",
       "\n",
       "   quantity  total payment_type  \n",
       "0         2   7.98     e-wallet  \n",
       "1         1   3.99     e-wallet  \n",
       "2         2   0.38     e-wallet  \n",
       "3         4   0.76     e-wallet  \n",
       "4         2   8.98   debit card  "
      ]
     },
     "metadata": {},
     "output_type": "display_data"
    }
   ],
   "source": [
    "display(df.head())"
   ]
  },
  {
   "cell_type": "markdown",
   "metadata": {},
   "source": [
    "Streamline your dataset effortlessly by removing the redundant 'Unnamed' column. Enhance data clarity and precision, ensuring that your analysis remains focused and efficient. With this unnecessary column eliminated, your dataset becomes even more refined, enabling smoother and more insightful data exploration."
   ]
  },
  {
   "cell_type": "code",
   "execution_count": 4,
   "metadata": {},
   "outputs": [
    {
     "data": {
      "text/html": [
       "<div>\n",
       "<style scoped>\n",
       "    .dataframe tbody tr th:only-of-type {\n",
       "        vertical-align: middle;\n",
       "    }\n",
       "\n",
       "    .dataframe tbody tr th {\n",
       "        vertical-align: top;\n",
       "    }\n",
       "\n",
       "    .dataframe thead th {\n",
       "        text-align: right;\n",
       "    }\n",
       "</style>\n",
       "<table border=\"1\" class=\"dataframe\">\n",
       "  <thead>\n",
       "    <tr style=\"text-align: right;\">\n",
       "      <th></th>\n",
       "      <th>transaction_id</th>\n",
       "      <th>timestamp</th>\n",
       "      <th>product_id</th>\n",
       "      <th>category</th>\n",
       "      <th>customer_type</th>\n",
       "      <th>unit_price</th>\n",
       "      <th>quantity</th>\n",
       "      <th>total</th>\n",
       "      <th>payment_type</th>\n",
       "    </tr>\n",
       "  </thead>\n",
       "  <tbody>\n",
       "    <tr>\n",
       "      <th>0</th>\n",
       "      <td>a1c82654-c52c-45b3-8ce8-4c2a1efe63ed</td>\n",
       "      <td>2022-03-02 09:51:38</td>\n",
       "      <td>3bc6c1ea-0198-46de-9ffd-514ae3338713</td>\n",
       "      <td>fruit</td>\n",
       "      <td>gold</td>\n",
       "      <td>3.99</td>\n",
       "      <td>2</td>\n",
       "      <td>7.98</td>\n",
       "      <td>e-wallet</td>\n",
       "    </tr>\n",
       "    <tr>\n",
       "      <th>1</th>\n",
       "      <td>931ad550-09e8-4da6-beaa-8c9d17be9c60</td>\n",
       "      <td>2022-03-06 10:33:59</td>\n",
       "      <td>ad81b46c-bf38-41cf-9b54-5fe7f5eba93e</td>\n",
       "      <td>fruit</td>\n",
       "      <td>standard</td>\n",
       "      <td>3.99</td>\n",
       "      <td>1</td>\n",
       "      <td>3.99</td>\n",
       "      <td>e-wallet</td>\n",
       "    </tr>\n",
       "    <tr>\n",
       "      <th>2</th>\n",
       "      <td>ae133534-6f61-4cd6-b6b8-d1c1d8d90aea</td>\n",
       "      <td>2022-03-04 17:20:21</td>\n",
       "      <td>7c55cbd4-f306-4c04-a030-628cbe7867c1</td>\n",
       "      <td>fruit</td>\n",
       "      <td>premium</td>\n",
       "      <td>0.19</td>\n",
       "      <td>2</td>\n",
       "      <td>0.38</td>\n",
       "      <td>e-wallet</td>\n",
       "    </tr>\n",
       "    <tr>\n",
       "      <th>3</th>\n",
       "      <td>157cebd9-aaf0-475d-8a11-7c8e0f5b76e4</td>\n",
       "      <td>2022-03-02 17:23:58</td>\n",
       "      <td>80da8348-1707-403f-8be7-9e6deeccc883</td>\n",
       "      <td>fruit</td>\n",
       "      <td>gold</td>\n",
       "      <td>0.19</td>\n",
       "      <td>4</td>\n",
       "      <td>0.76</td>\n",
       "      <td>e-wallet</td>\n",
       "    </tr>\n",
       "    <tr>\n",
       "      <th>4</th>\n",
       "      <td>a81a6cd3-5e0c-44a2-826c-aea43e46c514</td>\n",
       "      <td>2022-03-05 14:32:43</td>\n",
       "      <td>7f5e86e6-f06f-45f6-bf44-27b095c9ad1d</td>\n",
       "      <td>fruit</td>\n",
       "      <td>basic</td>\n",
       "      <td>4.49</td>\n",
       "      <td>2</td>\n",
       "      <td>8.98</td>\n",
       "      <td>debit card</td>\n",
       "    </tr>\n",
       "  </tbody>\n",
       "</table>\n",
       "</div>"
      ],
      "text/plain": [
       "                         transaction_id            timestamp  \\\n",
       "0  a1c82654-c52c-45b3-8ce8-4c2a1efe63ed  2022-03-02 09:51:38   \n",
       "1  931ad550-09e8-4da6-beaa-8c9d17be9c60  2022-03-06 10:33:59   \n",
       "2  ae133534-6f61-4cd6-b6b8-d1c1d8d90aea  2022-03-04 17:20:21   \n",
       "3  157cebd9-aaf0-475d-8a11-7c8e0f5b76e4  2022-03-02 17:23:58   \n",
       "4  a81a6cd3-5e0c-44a2-826c-aea43e46c514  2022-03-05 14:32:43   \n",
       "\n",
       "                             product_id category customer_type  unit_price  \\\n",
       "0  3bc6c1ea-0198-46de-9ffd-514ae3338713    fruit          gold        3.99   \n",
       "1  ad81b46c-bf38-41cf-9b54-5fe7f5eba93e    fruit      standard        3.99   \n",
       "2  7c55cbd4-f306-4c04-a030-628cbe7867c1    fruit       premium        0.19   \n",
       "3  80da8348-1707-403f-8be7-9e6deeccc883    fruit          gold        0.19   \n",
       "4  7f5e86e6-f06f-45f6-bf44-27b095c9ad1d    fruit         basic        4.49   \n",
       "\n",
       "   quantity  total payment_type  \n",
       "0         2   7.98     e-wallet  \n",
       "1         1   3.99     e-wallet  \n",
       "2         2   0.38     e-wallet  \n",
       "3         4   0.76     e-wallet  \n",
       "4         2   8.98   debit card  "
      ]
     },
     "metadata": {},
     "output_type": "display_data"
    }
   ],
   "source": [
    "df = df.loc[:, ~df.columns.str.contains('^Unnamed')]\n",
    "display(df.head())"
   ]
  },
  {
   "cell_type": "code",
   "execution_count": 5,
   "metadata": {},
   "outputs": [],
   "source": [
    "# # Convert all character values in the DataFrame to lowercase\n",
    "# df = df.applymap(lambda x: x.lower() if isinstance(x, str) else x)"
   ]
  },
  {
   "cell_type": "code",
   "execution_count": 6,
   "metadata": {},
   "outputs": [
    {
     "data": {
      "text/html": [
       "<div>\n",
       "<style scoped>\n",
       "    .dataframe tbody tr th:only-of-type {\n",
       "        vertical-align: middle;\n",
       "    }\n",
       "\n",
       "    .dataframe tbody tr th {\n",
       "        vertical-align: top;\n",
       "    }\n",
       "\n",
       "    .dataframe thead th {\n",
       "        text-align: right;\n",
       "    }\n",
       "</style>\n",
       "<table border=\"1\" class=\"dataframe\">\n",
       "  <thead>\n",
       "    <tr style=\"text-align: right;\">\n",
       "      <th></th>\n",
       "      <th>transaction_id</th>\n",
       "      <th>timestamp</th>\n",
       "      <th>product_id</th>\n",
       "      <th>category</th>\n",
       "      <th>customer_type</th>\n",
       "      <th>unit_price</th>\n",
       "      <th>quantity</th>\n",
       "      <th>total</th>\n",
       "      <th>payment_type</th>\n",
       "    </tr>\n",
       "  </thead>\n",
       "  <tbody>\n",
       "    <tr>\n",
       "      <th>0</th>\n",
       "      <td>a1c82654-c52c-45b3-8ce8-4c2a1efe63ed</td>\n",
       "      <td>2022-03-02 09:51:38</td>\n",
       "      <td>3bc6c1ea-0198-46de-9ffd-514ae3338713</td>\n",
       "      <td>fruit</td>\n",
       "      <td>gold</td>\n",
       "      <td>3.99</td>\n",
       "      <td>2</td>\n",
       "      <td>7.98</td>\n",
       "      <td>e-wallet</td>\n",
       "    </tr>\n",
       "    <tr>\n",
       "      <th>1</th>\n",
       "      <td>931ad550-09e8-4da6-beaa-8c9d17be9c60</td>\n",
       "      <td>2022-03-06 10:33:59</td>\n",
       "      <td>ad81b46c-bf38-41cf-9b54-5fe7f5eba93e</td>\n",
       "      <td>fruit</td>\n",
       "      <td>standard</td>\n",
       "      <td>3.99</td>\n",
       "      <td>1</td>\n",
       "      <td>3.99</td>\n",
       "      <td>e-wallet</td>\n",
       "    </tr>\n",
       "    <tr>\n",
       "      <th>2</th>\n",
       "      <td>ae133534-6f61-4cd6-b6b8-d1c1d8d90aea</td>\n",
       "      <td>2022-03-04 17:20:21</td>\n",
       "      <td>7c55cbd4-f306-4c04-a030-628cbe7867c1</td>\n",
       "      <td>fruit</td>\n",
       "      <td>premium</td>\n",
       "      <td>0.19</td>\n",
       "      <td>2</td>\n",
       "      <td>0.38</td>\n",
       "      <td>e-wallet</td>\n",
       "    </tr>\n",
       "    <tr>\n",
       "      <th>3</th>\n",
       "      <td>157cebd9-aaf0-475d-8a11-7c8e0f5b76e4</td>\n",
       "      <td>2022-03-02 17:23:58</td>\n",
       "      <td>80da8348-1707-403f-8be7-9e6deeccc883</td>\n",
       "      <td>fruit</td>\n",
       "      <td>gold</td>\n",
       "      <td>0.19</td>\n",
       "      <td>4</td>\n",
       "      <td>0.76</td>\n",
       "      <td>e-wallet</td>\n",
       "    </tr>\n",
       "    <tr>\n",
       "      <th>4</th>\n",
       "      <td>a81a6cd3-5e0c-44a2-826c-aea43e46c514</td>\n",
       "      <td>2022-03-05 14:32:43</td>\n",
       "      <td>7f5e86e6-f06f-45f6-bf44-27b095c9ad1d</td>\n",
       "      <td>fruit</td>\n",
       "      <td>basic</td>\n",
       "      <td>4.49</td>\n",
       "      <td>2</td>\n",
       "      <td>8.98</td>\n",
       "      <td>debit card</td>\n",
       "    </tr>\n",
       "  </tbody>\n",
       "</table>\n",
       "</div>"
      ],
      "text/plain": [
       "                         transaction_id            timestamp  \\\n",
       "0  a1c82654-c52c-45b3-8ce8-4c2a1efe63ed  2022-03-02 09:51:38   \n",
       "1  931ad550-09e8-4da6-beaa-8c9d17be9c60  2022-03-06 10:33:59   \n",
       "2  ae133534-6f61-4cd6-b6b8-d1c1d8d90aea  2022-03-04 17:20:21   \n",
       "3  157cebd9-aaf0-475d-8a11-7c8e0f5b76e4  2022-03-02 17:23:58   \n",
       "4  a81a6cd3-5e0c-44a2-826c-aea43e46c514  2022-03-05 14:32:43   \n",
       "\n",
       "                             product_id category customer_type  unit_price  \\\n",
       "0  3bc6c1ea-0198-46de-9ffd-514ae3338713    fruit          gold        3.99   \n",
       "1  ad81b46c-bf38-41cf-9b54-5fe7f5eba93e    fruit      standard        3.99   \n",
       "2  7c55cbd4-f306-4c04-a030-628cbe7867c1    fruit       premium        0.19   \n",
       "3  80da8348-1707-403f-8be7-9e6deeccc883    fruit          gold        0.19   \n",
       "4  7f5e86e6-f06f-45f6-bf44-27b095c9ad1d    fruit         basic        4.49   \n",
       "\n",
       "   quantity  total payment_type  \n",
       "0         2   7.98     e-wallet  \n",
       "1         1   3.99     e-wallet  \n",
       "2         2   0.38     e-wallet  \n",
       "3         4   0.76     e-wallet  \n",
       "4         2   8.98   debit card  "
      ]
     },
     "metadata": {},
     "output_type": "display_data"
    }
   ],
   "source": [
    "display(df.head())"
   ]
  },
  {
   "cell_type": "markdown",
   "metadata": {},
   "source": [
    "Easily explore your dataframe with the .head() and .tail() methods, providing quick access to the top and bottom rows, respectively. Gain insights into your data by adjusting the number of rows displayed to suit your analysis needs. Whether you're examining the beginning or end of your dataset, these versatile methods offer a convenient way to navigate and understand your data effectively."
   ]
  },
  {
   "cell_type": "code",
   "execution_count": 36,
   "metadata": {},
   "outputs": [
    {
     "name": "stdout",
     "output_type": "stream",
     "text": [
      "Updated CSV file saved successfully to the new folder.\n"
     ]
    }
   ],
   "source": [
    "import os\n",
    "# Create a new folder if it doesn't exist\n",
    "folder_name = \"artifacts\"\n",
    "if not os.path.exists(folder_name):\n",
    "    os.makedirs(folder_name)\n",
    "\n",
    "# Save the updated DataFrame to a CSV file in the new folder\n",
    "updated_file_path = os.path.join(folder_name, \"sample_sales_data_updated.csv\", index=False)\n",
    "df.to_csv(updated_file_path, index=False)\n",
    "\n",
    "print(\"Updated CSV file saved successfully to the new folder.\")"
   ]
  },
  {
   "cell_type": "markdown",
   "metadata": {},
   "source": [
    "---\n",
    "\n",
    "## Section 3 - Exploring Data: Descriptive Statistics\n",
    "\n",
    "Unlock insights by unraveling the mysteries of your dataset. Dive into the fundamentals to grasp the essence of each column and datatype. Illuminate the path forward by gaining clarity on the structure and composition of your data. Through this foundational exploration, pave the way for deeper analysis and meaningful interpretation."
   ]
  },
  {
   "cell_type": "code",
   "execution_count": 8,
   "metadata": {},
   "outputs": [
    {
     "name": "stdout",
     "output_type": "stream",
     "text": [
      "<class 'pandas.core.frame.DataFrame'>\n",
      "RangeIndex: 7829 entries, 0 to 7828\n",
      "Data columns (total 9 columns):\n",
      " #   Column          Non-Null Count  Dtype  \n",
      "---  ------          --------------  -----  \n",
      " 0   transaction_id  7829 non-null   object \n",
      " 1   timestamp       7829 non-null   object \n",
      " 2   product_id      7829 non-null   object \n",
      " 3   category        7829 non-null   object \n",
      " 4   customer_type   7829 non-null   object \n",
      " 5   unit_price      7829 non-null   float64\n",
      " 6   quantity        7829 non-null   int64  \n",
      " 7   total           7829 non-null   float64\n",
      " 8   payment_type    7829 non-null   object \n",
      "dtypes: float64(2), int64(1), object(6)\n",
      "memory usage: 550.6+ KB\n"
     ]
    },
    {
     "data": {
      "text/plain": [
       "None"
      ]
     },
     "metadata": {},
     "output_type": "display_data"
    }
   ],
   "source": [
    "display(df.info())"
   ]
  },
  {
   "cell_type": "markdown",
   "metadata": {},
   "source": [
    "The `.info()` method creates a data description of the dataframe. It tells us:\n",
    "\n",
    "- How many rows (7829)\n",
    "- How many columns (8)\n",
    "- Column names\n",
    "- How many values are non-null for each column\n",
    "- The types of data contained within each column\n",
    "- The size of the dataset loaded into memory (~550KB)\n",
    "\n",
    "Looking at the output of the `.info()` method, we can intepret each column as follows:\n",
    "\n",
    "- transaction_id = this is a unique ID that is assigned to each transaction\n",
    "- timestamp = this is the datetime at which the transaction was made\n",
    "- product_id = this is an ID that is assigned to the product that was sold. Each product has a unique ID\n",
    "- category = this is the category that the product is contained within\n",
    "- customer_type = this is the type of customer that made the transaction\n",
    "- unit_price = the price that 1 unit of this item sells for\n",
    "- quantity = the number of units sold for this product within this transaction\n",
    "- total = the total amount payable by the customer\n",
    "- payment_type = the payment method used by the customer\n",
    "\n",
    "It is also interesting to look at the datatypes. We can see that there are 3 different datatypes within this dataset:\n",
    "\n",
    "- object = this column contains categorical values\n",
    "- float64 = this column contains floating point numerical values (i.e. decimal numbers)\n",
    "- int64 = this column contains integer values (whole numbers)\n",
    "\n",
    "Now let's compute some descriptive statistics of the numeric columns:"
   ]
  },
  {
   "cell_type": "markdown",
   "metadata": {},
   "source": [
    "Result - No null values in any column/ Absence of Null Values"
   ]
  },
  {
   "cell_type": "markdown",
   "metadata": {},
   "source": [
    "### Dataset contains 7829 rows and  columns"
   ]
  },
  {
   "cell_type": "code",
   "execution_count": 9,
   "metadata": {},
   "outputs": [
    {
     "name": "stdout",
     "output_type": "stream",
     "text": [
      "Shape: (7829, 9)\n"
     ]
    }
   ],
   "source": [
    "print(\"Shape:\", df.shape)"
   ]
  },
  {
   "cell_type": "code",
   "execution_count": 10,
   "metadata": {},
   "outputs": [
    {
     "data": {
      "text/plain": [
       "7829"
      ]
     },
     "execution_count": 10,
     "metadata": {},
     "output_type": "execute_result"
    }
   ],
   "source": [
    "len(df.index)"
   ]
  },
  {
   "cell_type": "code",
   "execution_count": 11,
   "metadata": {},
   "outputs": [
    {
     "name": "stdout",
     "output_type": "stream",
     "text": [
      "Shape: (7829, 9)\n",
      "Data Types: transaction_id     object\n",
      "timestamp          object\n",
      "product_id         object\n",
      "category           object\n",
      "customer_type      object\n",
      "unit_price        float64\n",
      "quantity            int64\n",
      "total             float64\n",
      "payment_type       object\n",
      "dtype: object\n",
      "Summary Statistics:\n",
      "        unit_price     quantity        total\n",
      "count  7829.000000  7829.000000  7829.000000\n",
      "mean      7.819480     2.501597    19.709905\n",
      "std       5.388088     1.122722    17.446680\n",
      "min       0.190000     1.000000     0.190000\n",
      "25%       3.990000     1.000000     6.570000\n",
      "50%       7.190000     3.000000    14.970000\n",
      "75%      11.190000     4.000000    28.470000\n",
      "max      23.990000     4.000000    95.960000\n"
     ]
    }
   ],
   "source": [
    "# Get the dimensions of the dataset\n",
    "print(\"Shape:\", df.shape)\n",
    "\n",
    "# View data types of each column\n",
    "print(\"Data Types:\", df.dtypes)\n",
    "\n",
    "# Generate summary statistics\n",
    "print(\"Summary Statistics:\")\n",
    "print(df.describe())\n"
   ]
  },
  {
   "cell_type": "markdown",
   "metadata": {},
   "source": [
    "The `.describe()` method computes some descriptive statistics of the numerical columns, including:\n",
    "\n",
    "- count = count of how many unique values exist\n",
    "- mean = mean average value of this column\n",
    "- std = standard deviation\n",
    "- min = minimum value\n",
    "- 25% = lower quartile value\n",
    "- 50% = median value\n",
    "- 75% = upper quartile value\n",
    "- max = maximum value"
   ]
  },
  {
   "cell_type": "markdown",
   "metadata": {},
   "source": [
    "### No missing values in any row/column"
   ]
  },
  {
   "cell_type": "code",
   "execution_count": 12,
   "metadata": {},
   "outputs": [
    {
     "name": "stdout",
     "output_type": "stream",
     "text": [
      "Missing Values:\n",
      "transaction_id    0\n",
      "timestamp         0\n",
      "product_id        0\n",
      "category          0\n",
      "customer_type     0\n",
      "unit_price        0\n",
      "quantity          0\n",
      "total             0\n",
      "payment_type      0\n",
      "dtype: int64\n"
     ]
    }
   ],
   "source": [
    "# Check for missing values\n",
    "print(\"Missing Values:\")\n",
    "print(df.isnull().sum())"
   ]
  },
  {
   "cell_type": "markdown",
   "metadata": {},
   "source": [
    "## Section 4 - Visualisation\n",
    "\n",
    "These statistics are useful, but they are better understood using visualisations. For visualisation, we will use the `seaborn` package, which makes it really easy to create visualisations from a dataframe. \n",
    "\n",
    "To use them, let's first install and then import it:"
   ]
  },
  {
   "cell_type": "code",
   "execution_count": 13,
   "metadata": {},
   "outputs": [
    {
     "data": {
      "image/png": "[encoded data removed]",
      "text/plain": [
       "<Figure size 1500x500 with 1 Axes>"
      ]
     },
     "metadata": {},
     "output_type": "display_data"
    }
   ],
   "source": [
    "# Get the counts of each payment type\n",
    "payment_type_counts = df['payment_type'].value_counts()\n",
    "\n",
    "# Define a color palette for the bars\n",
    "colors = ['#1f77b4', '#ff7f0e', '#2ca02c', '#d62728', '#9467bd', '#8c564b', '#e377c2', '#7f7f7f', '#bcbd22', '#17becf']\n",
    "\n",
    "# Create a bar plot for payment_type with count labels and different colors for each bar\n",
    "plt.figure(figsize=(15, 5))\n",
    "bars = plt.bar(payment_type_counts.index, payment_type_counts, color=colors[:len(payment_type_counts)])\n",
    "\n",
    "# Add count labels on top of each bar\n",
    "for bar in bars:\n",
    "    yval = bar.get_height()\n",
    "    plt.text(bar.get_x() + bar.get_width() / 2, yval, yval, ha='center', va='bottom')\n",
    "\n",
    "plt.xlabel('Payment Type')\n",
    "plt.ylabel('Count')\n",
    "plt.title('Distribution of Payment Types')\n",
    "plt.show()\n"
   ]
  },
  {
   "cell_type": "markdown",
   "metadata": {},
   "source": [
    "### Introducing get_unique_values function\n",
    "Uncover the uniqueness within your dataset effortlessly with the get_unique_values function. Gain quick insights into the distinct values across columns, paving the way for deeper analysis."
   ]
  },
  {
   "cell_type": "code",
   "execution_count": 14,
   "metadata": {},
   "outputs": [],
   "source": [
    "def get_unique_values(data, column):\n",
    "  num_unique_values = len(data[column].unique())\n",
    "  value_counts = data[column].value_counts()\n",
    "  print(f\"Column: {column} has {num_unique_values} unique values\\n\")\n",
    "  print(value_counts)"
   ]
  },
  {
   "cell_type": "markdown",
   "metadata": {},
   "source": [
    "### calculate the unique_values from columns transaction_id"
   ]
  },
  {
   "cell_type": "code",
   "execution_count": 15,
   "metadata": {},
   "outputs": [
    {
     "name": "stdout",
     "output_type": "stream",
     "text": [
      "Column: transaction_id has 7829 unique values\n",
      "\n",
      "transaction_id\n",
      "a1c82654-c52c-45b3-8ce8-4c2a1efe63ed    1\n",
      "6532e258-95fd-4eb5-8c67-2bfb879a8fec    1\n",
      "6fce2af3-47a0-4755-99c9-0cefb5ab6f41    1\n",
      "6476e388-3990-471f-b415-3ee59ae18832    1\n",
      "10afe89b-c45b-49a2-b0be-dec89a4c3f80    1\n",
      "                                       ..\n",
      "a9abe5ac-99d5-4d8b-bbbd-c2a207642849    1\n",
      "6b0b23e8-412b-4665-8cc4-3e37f0d9e195    1\n",
      "711a4162-1985-4f5a-94ca-137cfacaeadf    1\n",
      "7d1e9010-dbaf-4770-a467-f31477910f7a    1\n",
      "afd70b4f-ee21-402d-8d8f-0d9e13c2bea6    1\n",
      "Name: count, Length: 7829, dtype: int64\n"
     ]
    }
   ],
   "source": [
    "get_unique_values(df, 'transaction_id')"
   ]
  },
  {
   "cell_type": "markdown",
   "metadata": {},
   "source": [
    "Conclusion: Unique Values in Transaction ID\n",
    "With all values in the transaction_id column being unique, gaining insights directly from this column may be challenging. However, this uniqueness ensures data integrity and highlights the significance of exploring other columns for valuable insights."
   ]
  },
  {
   "cell_type": "markdown",
   "metadata": {},
   "source": [
    "### Calculating the unique_values from columns category"
   ]
  },
  {
   "cell_type": "code",
   "execution_count": 16,
   "metadata": {},
   "outputs": [
    {
     "name": "stdout",
     "output_type": "stream",
     "text": [
      "Total number of unique categories: 22\n",
      "Column: category has 22 unique values\n",
      "\n",
      "category\n",
      "fruit                    998\n",
      "vegetables               846\n",
      "packaged foods           507\n",
      "baked goods              443\n",
      "canned foods             431\n",
      "refrigerated items       425\n",
      "kitchen                  382\n",
      "meat                     382\n",
      "dairy                    375\n",
      "beverages                301\n",
      "cheese                   293\n",
      "cleaning products        292\n",
      "baking                   264\n",
      "snacks                   263\n",
      "frozen                   263\n",
      "seafood                  253\n",
      "medicine                 243\n",
      "baby products            224\n",
      "condiments and sauces    181\n",
      "personal care            177\n",
      "pets                     161\n",
      "spices and herbs         125\n",
      "Name: count, dtype: int64\n"
     ]
    }
   ],
   "source": [
    "num_unique_categories = df['category'].nunique()\n",
    "print(\"Total number of unique categories:\", num_unique_categories)\n",
    "\n",
    "get_unique_values(df, 'category')"
   ]
  },
  {
   "cell_type": "markdown",
   "metadata": {},
   "source": [
    "Conclusion - There are 22 unique in category column"
   ]
  },
  {
   "cell_type": "markdown",
   "metadata": {},
   "source": [
    "### Distribution shows First 10 products"
   ]
  },
  {
   "cell_type": "code",
   "execution_count": 17,
   "metadata": {},
   "outputs": [
    {
     "data": {
      "image/png": "[encoded data removed]",
      "text/plain": [
       "<Figure size 1800x500 with 1 Axes>"
      ]
     },
     "metadata": {},
     "output_type": "display_data"
    }
   ],
   "source": [
    "# Get the Top 10 categories by count\n",
    "top_10_categories = df['category'].value_counts().sort_values(ascending=False).head(10)\n",
    "\n",
    "# Create a bar plot for the last 10 categories\n",
    "plt.figure(figsize=(18, 5))\n",
    "plt.bar(top_10_categories.index, top_10_categories)\n",
    "\n",
    "# Add count labels to each bar\n",
    "for i, count in enumerate(top_10_categories):\n",
    "    plt.text(i, count, str(count), ha='center', va='bottom')\n",
    "plt.xlabel('category')\n",
    "plt.ylabel('Count')\n",
    "plt.title('Distribution of Product Types')\n",
    "plt.show()"
   ]
  },
  {
   "cell_type": "markdown",
   "metadata": {},
   "source": [
    "Exploring Product Type Distribution\n",
    "Gain a glimpse into the distribution of product types with ease. Dive into the top 10 results or customize the view to suit your preferences. Uncover trends and patterns in product popularity, laying the groundwork for informed decision-making and strategic planning."
   ]
  },
  {
   "cell_type": "markdown",
   "metadata": {},
   "source": [
    "### Similar Distribution as above but it shows last 10 products"
   ]
  },
  {
   "cell_type": "code",
   "execution_count": 18,
   "metadata": {},
   "outputs": [
    {
     "data": {
      "image/png": "[encoded data removed]",
      "text/plain": [
       "<Figure size 1800x500 with 1 Axes>"
      ]
     },
     "metadata": {},
     "output_type": "display_data"
    }
   ],
   "source": [
    "# Get the Last 10 categories by count\n",
    "last_10_categories = df['category'].value_counts().sort_values(ascending=False).tail(10)\n",
    "\n",
    "# Create a bar plot for the last 10 categories\n",
    "plt.figure(figsize=(18, 5))\n",
    "plt.bar(last_10_categories.index, last_10_categories)\n",
    "\n",
    "# Add count labels to each bar\n",
    "for i, count in enumerate(last_10_categories):\n",
    "    plt.text(i, count, str(count), ha='center', va='bottom')\n",
    "plt.xlabel('category')\n",
    "plt.ylabel('Count')\n",
    "plt.title('Distribution of Product Types')\n",
    "plt.show()"
   ]
  },
  {
   "cell_type": "markdown",
   "metadata": {},
   "source": [
    "## Calculating the unique_values from columns product_id"
   ]
  },
  {
   "cell_type": "code",
   "execution_count": 19,
   "metadata": {},
   "outputs": [
    {
     "name": "stdout",
     "output_type": "stream",
     "text": [
      "Column: product_id has 300 unique values\n",
      "\n",
      "product_id\n",
      "ecac012c-1dec-41d4-9ebd-56fb7166f6d9    114\n",
      "80da8348-1707-403f-8be7-9e6deeccc883    109\n",
      "0ddc2379-adba-4fb0-aa97-19fcafc738a1    108\n",
      "7c55cbd4-f306-4c04-a030-628cbe7867c1    104\n",
      "3bc6c1ea-0198-46de-9ffd-514ae3338713    101\n",
      "                                       ... \n",
      "49f7d4a9-713a-4824-b378-aebb33ff8b2f      5\n",
      "a8fab83a-16d4-4db0-a83a-f824ecd8604a      5\n",
      "c8de27d0-2c44-4b5a-b178-59c45d054ccb      5\n",
      "5adfc643-aa8e-4140-b2c3-98a946444632      5\n",
      "ec0bb9b5-45e3-4de8-963d-e92aa91a201e      3\n",
      "Name: count, Length: 300, dtype: int64\n",
      "Shape: (7829, 9)\n"
     ]
    }
   ],
   "source": [
    "get_unique_values(df, 'product_id')\n",
    "print(\"Shape:\", df.shape)"
   ]
  },
  {
   "cell_type": "markdown",
   "metadata": {},
   "source": [
    "#### Conclusion -    \n",
    "#### There are only 300 unique values are there in product_id column. \n",
    "#### Here we can conclude product_id - ecac012c-1dec-41d4-9ebd-56fb7166f6d9 has sold 114 time in the timeframe(week/month)"
   ]
  },
  {
   "cell_type": "markdown",
   "metadata": {},
   "source": [
    "## Calculating the unique_values from columns customer_type\n"
   ]
  },
  {
   "cell_type": "code",
   "execution_count": 20,
   "metadata": {},
   "outputs": [
    {
     "name": "stdout",
     "output_type": "stream",
     "text": [
      "Column: customer_type has 5 unique values\n",
      "\n",
      "customer_type\n",
      "non-member    1601\n",
      "standard      1595\n",
      "premium       1590\n",
      "basic         1526\n",
      "gold          1517\n",
      "Name: count, dtype: int64\n",
      "Shape: (7829, 9)\n"
     ]
    }
   ],
   "source": [
    "get_unique_values(df, 'customer_type')\n",
    "print(\"Shape:\", df.shape)"
   ]
  },
  {
   "cell_type": "markdown",
   "metadata": {},
   "source": [
    "### Conclusion -  There are only 5 unique values are there in customer_type column."
   ]
  },
  {
   "cell_type": "markdown",
   "metadata": {},
   "source": [
    "## Distribution of Customer Types"
   ]
  },
  {
   "cell_type": "code",
   "execution_count": 21,
   "metadata": {},
   "outputs": [
    {
     "data": {
      "image/png": "[encoded data removed]",
      "text/plain": [
       "<Figure size 1000x600 with 1 Axes>"
      ]
     },
     "metadata": {},
     "output_type": "display_data"
    }
   ],
   "source": [
    "import matplotlib.pyplot as plt\n",
    "\n",
    "# Count the occurrences of each customer_type\n",
    "customer_type_counts = df['customer_type'].value_counts()\n",
    "\n",
    "# Create a bar plot for customer_type with count labels and different colors for each bar\n",
    "plt.figure(figsize=(10, 6))\n",
    "bars = plt.bar(customer_type_counts.index, customer_type_counts, color=['#1f77b4', '#ff7f0e', '#2ca02c', '#d62728','#ffcc99'])\n",
    "\n",
    "# Add count labels on top of each bar\n",
    "for bar in bars:\n",
    "    yval = bar.get_height()\n",
    "    plt.text(bar.get_x() + bar.get_width() / 2, yval, yval, ha='center', va='bottom')\n",
    "\n",
    "# Set plot labels and title\n",
    "plt.xlabel('Customer Type')\n",
    "plt.ylabel('Count')\n",
    "plt.title('Distribution of Customer Types')\n",
    "\n",
    "# Show the plot\n",
    "plt.show()\n"
   ]
  },
  {
   "cell_type": "markdown",
   "metadata": {},
   "source": [
    "## Calculating the unique_values from columns payment_type\n"
   ]
  },
  {
   "cell_type": "code",
   "execution_count": 22,
   "metadata": {},
   "outputs": [
    {
     "name": "stdout",
     "output_type": "stream",
     "text": [
      "Column: payment_type has 4 unique values\n",
      "\n",
      "payment_type\n",
      "cash           2027\n",
      "credit card    1949\n",
      "e-wallet       1935\n",
      "debit card     1918\n",
      "Name: count, dtype: int64\n",
      "Shape: (7829, 9)\n"
     ]
    }
   ],
   "source": [
    "get_unique_values(df, 'payment_type')\n",
    "print(\"Shape:\", df.shape)"
   ]
  },
  {
   "cell_type": "markdown",
   "metadata": {},
   "source": [
    "### Conclusion -  There are only 5 unique values are there in payment_type. "
   ]
  },
  {
   "cell_type": "markdown",
   "metadata": {},
   "source": [
    "### Distribution of Payment Types"
   ]
  },
  {
   "cell_type": "code",
   "execution_count": 23,
   "metadata": {},
   "outputs": [
    {
     "data": {
      "image/png": "[encoded data removed]",
      "text/plain": [
       "<Figure size 1000x600 with 1 Axes>"
      ]
     },
     "metadata": {},
     "output_type": "display_data"
    }
   ],
   "source": [
    "import matplotlib.pyplot as plt\n",
    "\n",
    "# Count the occurrences of each payment_type\n",
    "payment_type_counts = df['payment_type'].value_counts()\n",
    "\n",
    "# Create a bar plot for payment_type with count labels and different colors for each bar\n",
    "plt.figure(figsize=(10, 6))\n",
    "bars = plt.bar(customer_type_counts.index, customer_type_counts, color=['#1f77b4', '#ff7f0e', '#2ca02c', '#d62728'])\n",
    "\n",
    "# Add count labels on top of each bar\n",
    "for bar in bars:\n",
    "    yval = bar.get_height()\n",
    "    plt.text(bar.get_x() + bar.get_width() / 2, yval, yval, ha='center', va='bottom')\n",
    "\n",
    "# Set plot labels and title\n",
    "plt.xlabel('Payment Type')\n",
    "plt.ylabel('Count')\n",
    "plt.title('Distribution of Payment Types')\n",
    "\n",
    "# Show the plot\n",
    "plt.show()\n"
   ]
  },
  {
   "cell_type": "markdown",
   "metadata": {},
   "source": [
    "### Working on timestamp column\n",
    "### Each timestamp is unique in number wrt no of records"
   ]
  },
  {
   "cell_type": "code",
   "execution_count": 24,
   "metadata": {},
   "outputs": [
    {
     "name": "stdout",
     "output_type": "stream",
     "text": [
      "<class 'pandas.core.frame.DataFrame'>\n",
      "RangeIndex: 7829 entries, 0 to 7828\n",
      "Data columns (total 9 columns):\n",
      " #   Column          Non-Null Count  Dtype  \n",
      "---  ------          --------------  -----  \n",
      " 0   transaction_id  7829 non-null   object \n",
      " 1   timestamp       7829 non-null   object \n",
      " 2   product_id      7829 non-null   object \n",
      " 3   category        7829 non-null   object \n",
      " 4   customer_type   7829 non-null   object \n",
      " 5   unit_price      7829 non-null   float64\n",
      " 6   quantity        7829 non-null   int64  \n",
      " 7   total           7829 non-null   float64\n",
      " 8   payment_type    7829 non-null   object \n",
      "dtypes: float64(2), int64(1), object(6)\n",
      "memory usage: 550.6+ KB\n",
      "Column: timestamp has 7738 unique values\n",
      "\n",
      "timestamp\n",
      "2022-03-02 19:32:20    2\n",
      "2022-03-05 10:11:33    2\n",
      "2022-03-01 18:12:17    2\n",
      "2022-03-03 13:28:14    2\n",
      "2022-03-07 17:13:29    2\n",
      "                      ..\n",
      "2022-03-01 10:00:58    1\n",
      "2022-03-02 11:05:58    1\n",
      "2022-03-04 17:48:49    1\n",
      "2022-03-04 14:53:27    1\n",
      "2022-03-06 13:50:36    1\n",
      "Name: count, Length: 7738, dtype: int64\n",
      "Shape: (7829, 9)\n"
     ]
    }
   ],
   "source": [
    "df.info()\n",
    "get_unique_values(df, 'timestamp')\n",
    "print(\"Shape:\", df.shape)\n",
    "#df['timestamp'].dtypes\n"
   ]
  },
  {
   "cell_type": "markdown",
   "metadata": {},
   "source": [
    "## Converting the \"timestamp\" column into datetime"
   ]
  },
  {
   "cell_type": "code",
   "execution_count": 25,
   "metadata": {},
   "outputs": [
    {
     "name": "stdout",
     "output_type": "stream",
     "text": [
      "datetime64[ns]\n",
      "<class 'pandas.core.frame.DataFrame'>\n",
      "RangeIndex: 7829 entries, 0 to 7828\n",
      "Data columns (total 9 columns):\n",
      " #   Column          Non-Null Count  Dtype         \n",
      "---  ------          --------------  -----         \n",
      " 0   transaction_id  7829 non-null   object        \n",
      " 1   timestamp       7829 non-null   datetime64[ns]\n",
      " 2   product_id      7829 non-null   object        \n",
      " 3   category        7829 non-null   object        \n",
      " 4   customer_type   7829 non-null   object        \n",
      " 5   unit_price      7829 non-null   float64       \n",
      " 6   quantity        7829 non-null   int64         \n",
      " 7   total           7829 non-null   float64       \n",
      " 8   payment_type    7829 non-null   object        \n",
      "dtypes: datetime64[ns](1), float64(2), int64(1), object(5)\n",
      "memory usage: 550.6+ KB\n"
     ]
    }
   ],
   "source": [
    "import pandas as pd\n",
    "\n",
    "# Convert the \"timestamp\" column to datetime\n",
    "df['timestamp'] = pd.to_datetime(df['timestamp'])\n",
    "\n",
    "# Verify the updated data type\n",
    "print(df['timestamp'].dtype)\n",
    "df.info()\n"
   ]
  },
  {
   "cell_type": "markdown",
   "metadata": {},
   "source": [
    "### Extract year, month, day, hour into separate columns"
   ]
  },
  {
   "cell_type": "code",
   "execution_count": 26,
   "metadata": {},
   "outputs": [
    {
     "data": {
      "text/html": [
       "<div>\n",
       "<style scoped>\n",
       "    .dataframe tbody tr th:only-of-type {\n",
       "        vertical-align: middle;\n",
       "    }\n",
       "\n",
       "    .dataframe tbody tr th {\n",
       "        vertical-align: top;\n",
       "    }\n",
       "\n",
       "    .dataframe thead th {\n",
       "        text-align: right;\n",
       "    }\n",
       "</style>\n",
       "<table border=\"1\" class=\"dataframe\">\n",
       "  <thead>\n",
       "    <tr style=\"text-align: right;\">\n",
       "      <th></th>\n",
       "      <th>transaction_id</th>\n",
       "      <th>timestamp</th>\n",
       "      <th>product_id</th>\n",
       "      <th>category</th>\n",
       "      <th>customer_type</th>\n",
       "      <th>unit_price</th>\n",
       "      <th>quantity</th>\n",
       "      <th>total</th>\n",
       "      <th>payment_type</th>\n",
       "      <th>year</th>\n",
       "      <th>month</th>\n",
       "      <th>day</th>\n",
       "      <th>hour</th>\n",
       "      <th>day_of_week</th>\n",
       "    </tr>\n",
       "  </thead>\n",
       "  <tbody>\n",
       "    <tr>\n",
       "      <th>0</th>\n",
       "      <td>a1c82654-c52c-45b3-8ce8-4c2a1efe63ed</td>\n",
       "      <td>2022-03-02 09:51:38</td>\n",
       "      <td>3bc6c1ea-0198-46de-9ffd-514ae3338713</td>\n",
       "      <td>fruit</td>\n",
       "      <td>gold</td>\n",
       "      <td>3.99</td>\n",
       "      <td>2</td>\n",
       "      <td>7.98</td>\n",
       "      <td>e-wallet</td>\n",
       "      <td>2022</td>\n",
       "      <td>3</td>\n",
       "      <td>2</td>\n",
       "      <td>9</td>\n",
       "      <td>Wednesday</td>\n",
       "    </tr>\n",
       "    <tr>\n",
       "      <th>1</th>\n",
       "      <td>931ad550-09e8-4da6-beaa-8c9d17be9c60</td>\n",
       "      <td>2022-03-06 10:33:59</td>\n",
       "      <td>ad81b46c-bf38-41cf-9b54-5fe7f5eba93e</td>\n",
       "      <td>fruit</td>\n",
       "      <td>standard</td>\n",
       "      <td>3.99</td>\n",
       "      <td>1</td>\n",
       "      <td>3.99</td>\n",
       "      <td>e-wallet</td>\n",
       "      <td>2022</td>\n",
       "      <td>3</td>\n",
       "      <td>6</td>\n",
       "      <td>10</td>\n",
       "      <td>Sunday</td>\n",
       "    </tr>\n",
       "    <tr>\n",
       "      <th>2</th>\n",
       "      <td>ae133534-6f61-4cd6-b6b8-d1c1d8d90aea</td>\n",
       "      <td>2022-03-04 17:20:21</td>\n",
       "      <td>7c55cbd4-f306-4c04-a030-628cbe7867c1</td>\n",
       "      <td>fruit</td>\n",
       "      <td>premium</td>\n",
       "      <td>0.19</td>\n",
       "      <td>2</td>\n",
       "      <td>0.38</td>\n",
       "      <td>e-wallet</td>\n",
       "      <td>2022</td>\n",
       "      <td>3</td>\n",
       "      <td>4</td>\n",
       "      <td>17</td>\n",
       "      <td>Friday</td>\n",
       "    </tr>\n",
       "    <tr>\n",
       "      <th>3</th>\n",
       "      <td>157cebd9-aaf0-475d-8a11-7c8e0f5b76e4</td>\n",
       "      <td>2022-03-02 17:23:58</td>\n",
       "      <td>80da8348-1707-403f-8be7-9e6deeccc883</td>\n",
       "      <td>fruit</td>\n",
       "      <td>gold</td>\n",
       "      <td>0.19</td>\n",
       "      <td>4</td>\n",
       "      <td>0.76</td>\n",
       "      <td>e-wallet</td>\n",
       "      <td>2022</td>\n",
       "      <td>3</td>\n",
       "      <td>2</td>\n",
       "      <td>17</td>\n",
       "      <td>Wednesday</td>\n",
       "    </tr>\n",
       "    <tr>\n",
       "      <th>4</th>\n",
       "      <td>a81a6cd3-5e0c-44a2-826c-aea43e46c514</td>\n",
       "      <td>2022-03-05 14:32:43</td>\n",
       "      <td>7f5e86e6-f06f-45f6-bf44-27b095c9ad1d</td>\n",
       "      <td>fruit</td>\n",
       "      <td>basic</td>\n",
       "      <td>4.49</td>\n",
       "      <td>2</td>\n",
       "      <td>8.98</td>\n",
       "      <td>debit card</td>\n",
       "      <td>2022</td>\n",
       "      <td>3</td>\n",
       "      <td>5</td>\n",
       "      <td>14</td>\n",
       "      <td>Saturday</td>\n",
       "    </tr>\n",
       "  </tbody>\n",
       "</table>\n",
       "</div>"
      ],
      "text/plain": [
       "                         transaction_id           timestamp  \\\n",
       "0  a1c82654-c52c-45b3-8ce8-4c2a1efe63ed 2022-03-02 09:51:38   \n",
       "1  931ad550-09e8-4da6-beaa-8c9d17be9c60 2022-03-06 10:33:59   \n",
       "2  ae133534-6f61-4cd6-b6b8-d1c1d8d90aea 2022-03-04 17:20:21   \n",
       "3  157cebd9-aaf0-475d-8a11-7c8e0f5b76e4 2022-03-02 17:23:58   \n",
       "4  a81a6cd3-5e0c-44a2-826c-aea43e46c514 2022-03-05 14:32:43   \n",
       "\n",
       "                             product_id category customer_type  unit_price  \\\n",
       "0  3bc6c1ea-0198-46de-9ffd-514ae3338713    fruit          gold        3.99   \n",
       "1  ad81b46c-bf38-41cf-9b54-5fe7f5eba93e    fruit      standard        3.99   \n",
       "2  7c55cbd4-f306-4c04-a030-628cbe7867c1    fruit       premium        0.19   \n",
       "3  80da8348-1707-403f-8be7-9e6deeccc883    fruit          gold        0.19   \n",
       "4  7f5e86e6-f06f-45f6-bf44-27b095c9ad1d    fruit         basic        4.49   \n",
       "\n",
       "   quantity  total payment_type  year  month  day  hour day_of_week  \n",
       "0         2   7.98     e-wallet  2022      3    2     9   Wednesday  \n",
       "1         1   3.99     e-wallet  2022      3    6    10      Sunday  \n",
       "2         2   0.38     e-wallet  2022      3    4    17      Friday  \n",
       "3         4   0.76     e-wallet  2022      3    2    17   Wednesday  \n",
       "4         2   8.98   debit card  2022      3    5    14    Saturday  "
      ]
     },
     "metadata": {},
     "output_type": "display_data"
    }
   ],
   "source": [
    "# Extract year, month, day, hour into separate columns\n",
    "df['year'] = df['timestamp'].dt.year\n",
    "df['month'] = df['timestamp'].dt.month\n",
    "df['day'] = df['timestamp'].dt.day\n",
    "df['hour'] = df['timestamp'].dt.hour\n",
    "\n",
    "# Create a new column \"day_of_week\" with the day names\n",
    "df['day_of_week'] = df['timestamp'].dt.day_name()\n",
    "\n",
    "# Display the updated DataFrame\n",
    "display(df.head())\n"
   ]
  },
  {
   "cell_type": "code",
   "execution_count": 32,
   "metadata": {},
   "outputs": [
    {
     "name": "stdout",
     "output_type": "stream",
     "text": [
      "Updated CSV file saved successfully to the new folder.\n"
     ]
    }
   ],
   "source": [
    "import os\n",
    "\n",
    "# Create a new folder if it doesn't exist\n",
    "folder_name = \"artifacts\"\n",
    "if not os.path.exists(folder_name):\n",
    "    os.makedirs(folder_name)\n",
    "\n",
    "# Save the updated DataFrame to a CSV file in the new folder\n",
    "updated_file_path = os.path.join(folder_name, \"sample_sales_data_updated_with_new_columns.csv\")\n",
    "df.to_csv(updated_file_path, index=False)\n",
    "\n",
    "print(\"Updated CSV file saved successfully to the new folder.\")"
   ]
  },
  {
   "cell_type": "markdown",
   "metadata": {},
   "source": [
    "### Calculating the unique_values from columns day_of_week\n"
   ]
  },
  {
   "cell_type": "code",
   "execution_count": null,
   "metadata": {},
   "outputs": [
    {
     "name": "stdout",
     "output_type": "stream",
     "text": [
      "Column: day_of_week has 7 unique values\n",
      "\n",
      "Wednesday    1168\n",
      "Tuesday      1165\n",
      "Sunday       1132\n",
      "Friday       1108\n",
      "Monday       1104\n",
      "Thursday     1078\n",
      "Saturday     1074\n",
      "Name: day_of_week, dtype: int64\n",
      "Shape: (7829, 14)\n"
     ]
    }
   ],
   "source": [
    "get_unique_values(df, 'day_of_week')\n",
    "print(\"Shape:\", df.shape)\n",
    "#df['timestamp'].dtypes\n"
   ]
  },
  {
   "cell_type": "markdown",
   "metadata": {},
   "source": [
    "### Distribution of Week Days"
   ]
  },
  {
   "cell_type": "code",
   "execution_count": null,
   "metadata": {},
   "outputs": [
    {
     "data": {
      "image/png": "[encoded data removed]",
      "text/plain": [
       "<Figure size 720x432 with 1 Axes>"
      ]
     },
     "metadata": {
      "needs_background": "light"
     },
     "output_type": "display_data"
    }
   ],
   "source": [
    "import matplotlib.pyplot as plt\n",
    "\n",
    "# Count the occurrences of each day_of_week\n",
    "day_of_week_counts = df['day_of_week'].value_counts()\n",
    "\n",
    "# Create a bar plot for payment_type with count labels and different colors for each bar\n",
    "plt.figure(figsize=(10, 6))\n",
    "bars = plt.bar(day_of_week_counts.index, day_of_week_counts, color=['#1f77b4', '#ff7f0e', '#2ca02c', '#d62728','#99ff99', '#ffcc99', '#c2c2f0'])\n",
    "\n",
    "# Add count labels on top of each bar\n",
    "for bar in bars:\n",
    "    yval = bar.get_height()\n",
    "    plt.text(bar.get_x() + bar.get_width() / 2, yval, yval, ha='center', va='bottom')\n",
    "\n",
    "# Set plot labels and title\n",
    "plt.xlabel('Day of week')\n",
    "plt.ylabel('Count')\n",
    "plt.title('Distribution of Week Days')\n",
    "\n",
    "# Show the plot\n",
    "plt.show()\n"
   ]
  },
  {
   "cell_type": "markdown",
   "metadata": {},
   "source": [
    "### Based on the generated chart, it appears that Wednesday has the highest number of transactions or sales compared to other days of the week."
   ]
  },
  {
   "cell_type": "markdown",
   "metadata": {},
   "source": [
    "### To determine which category of product was sold mostly on Wednesday, we need to analyze the sales data further. We can look into the sales records for Wednesday and identify the category that had the highest sales volume or revenue on that day."
   ]
  },
  {
   "cell_type": "code",
   "execution_count": null,
   "metadata": {},
   "outputs": [
    {
     "data": {
      "image/png": "[encoded data removed]",
      "text/plain": [
       "<Figure size 1440x360 with 1 Axes>"
      ]
     },
     "metadata": {
      "needs_background": "light"
     },
     "output_type": "display_data"
    }
   ],
   "source": [
    "import matplotlib.pyplot as plt\n",
    "import numpy as np\n",
    "\n",
    "# Filter the dataset for transactions on Wednesdays\n",
    "wednesday_data = df[df['day_of_week'] == 'Wednesday']\n",
    "\n",
    "# Count the occurrences of each category on Wednesdays\n",
    "category_counts = wednesday_data['category'].value_counts().head(10)\n",
    "\n",
    "# Define a colormap with enough colors for each category\n",
    "colormap = plt.cm.get_cmap('tab20', len(category_counts))\n",
    "\n",
    "# Create a bar plot for category with count labels and unique colors for each bar\n",
    "plt.figure(figsize=(20, 5))\n",
    "bars = plt.bar(category_counts.index, category_counts, color=colormap(np.arange(len(category_counts))))\n",
    "\n",
    "# Add count labels on top of each bar\n",
    "for bar in bars:\n",
    "    yval = bar.get_height()\n",
    "    plt.text(bar.get_x() + bar.get_width() / 2, yval, yval, ha='center', va='bottom')\n",
    "\n",
    "# Set plot labels and title\n",
    "plt.xlabel('Category')\n",
    "plt.ylabel('Count')\n",
    "plt.title('Distribution of Categories on Wednesdays')\n",
    "\n",
    "# Show the plot\n",
    "plt.show()"
   ]
  },
  {
   "cell_type": "markdown",
   "metadata": {},
   "source": [
    "#### From above result got an result chart and found the the category named fruit has more transaction/sales on wedsneday"
   ]
  },
  {
   "cell_type": "markdown",
   "metadata": {},
   "source": [
    "#### IF we want to know the different result on different day of week just change the \"day_of_week\" == \"your desire day of week\" in line 3.   note select all and pres \"ctr+/\" to execute the code and vice versa"
   ]
  },
  {
   "cell_type": "code",
   "execution_count": null,
   "metadata": {},
   "outputs": [],
   "source": [
    "# import matplotlib.pyplot as plt\n",
    "# import numpy as np\n",
    "\n",
    "# # Filter the dataset for transactions on Wednesdays\n",
    "# wednesday_data = df[df['day_of_week'] == '']\n",
    "\n",
    "# # Count the occurrences of each category on Wednesdays\n",
    "# category_counts = wednesday_data['category'].value_counts().head(10)\n",
    "\n",
    "# # Define a colormap with enough colors for each category\n",
    "# colormap = plt.cm.get_cmap('tab20', len(category_counts))\n",
    "\n",
    "# # Create a bar plot for category with count labels and unique colors for each bar\n",
    "# plt.figure(figsize=(20, 5))\n",
    "# bars = plt.bar(category_counts.index, category_counts, color=colormap(np.arange(len(category_counts))))\n",
    "\n",
    "# # Add count labels on top of each bar\n",
    "# for bar in bars:\n",
    "#     yval = bar.get_height()\n",
    "#     plt.text(bar.get_x() + bar.get_width() / 2, yval, yval, ha='center', va='bottom')\n",
    "\n",
    "# # Set plot labels and title\n",
    "# plt.xlabel('Category')\n",
    "# plt.ylabel('Count')\n",
    "# plt.title('Distribution of Categories on Wednesdays')\n",
    "\n",
    "# # Show the plot\n",
    "# plt.show()"
   ]
  },
  {
   "cell_type": "markdown",
   "metadata": {},
   "source": [
    "### Count the total unique categories in category column"
   ]
  },
  {
   "cell_type": "code",
   "execution_count": null,
   "metadata": {},
   "outputs": [
    {
     "data": {
      "text/plain": [
       "22"
      ]
     },
     "metadata": {},
     "output_type": "display_data"
    }
   ],
   "source": [
    "display(df['category'].nunique())"
   ]
  },
  {
   "cell_type": "markdown",
   "metadata": {},
   "source": [
    "### In the analysis We found that in category column total 22 unique categories are there. But according to market dairy product has includes value like dairy, milk and cheese, butter."
   ]
  },
  {
   "cell_type": "markdown",
   "metadata": {},
   "source": [
    "### Finding the categories dairy, milk and cheese, butter are there in category column or not"
   ]
  },
  {
   "cell_type": "code",
   "execution_count": null,
   "metadata": {},
   "outputs": [
    {
     "name": "stdout",
     "output_type": "stream",
     "text": [
      "Index(['cheese'], dtype='object')\n"
     ]
    }
   ],
   "source": [
    "# Find rows with values 'milk', 'buttermilk', 'butter' and 'cheese' in the 'category' column\n",
    "\n",
    "#dairy_categories = df[df['category'].isin(['milk', 'buttermilk', 'cheese','eggs','dairy'])]\n",
    "dairy_categories = df[df['category'].isin(['milk', 'buttermilk', 'cheese','butter'])]\n",
    "\n",
    "# Count the occurrences of each dairy category\n",
    "category_counts = dairy_categories['category'].value_counts()\n",
    "\n",
    "# Print the category column\n",
    "print(category_counts.index)\n"
   ]
  },
  {
   "cell_type": "markdown",
   "metadata": {},
   "source": [
    "### We found that category 'cheese' is found in column category"
   ]
  },
  {
   "cell_type": "markdown",
   "metadata": {},
   "source": [
    "### Combine categories ('dairy','milk', 'cheese', 'buttermilk') into a single category \"dairy products\"\n",
    "### included 'dairy','milk', 'cheese', 'buttermilk' for future dataset"
   ]
  },
  {
   "cell_type": "code",
   "execution_count": null,
   "metadata": {},
   "outputs": [],
   "source": [
    "# Combine categories into a single category \"dairy products\"\n",
    "df['category'] = df['category'].replace(['dairy','milk', 'cheese', 'buttermilk'], 'dairy products')"
   ]
  },
  {
   "cell_type": "markdown",
   "metadata": {},
   "source": [
    "### Below To check if the values \"milk,\" \"buttermilk,\" or \"cheese\" exist in the \"category\" column of DataFrame"
   ]
  },
  {
   "cell_type": "code",
   "execution_count": null,
   "metadata": {},
   "outputs": [
    {
     "name": "stdout",
     "output_type": "stream",
     "text": [
      "Index([], dtype='object')\n"
     ]
    }
   ],
   "source": [
    "# Find rows with values 'milk', 'buttermilk', and 'cheese' in the 'category' column\n",
    "#dairy_categories = df[df['category'].isin(['milk', 'buttermilk', 'cheese','eggs','dairy'])]\n",
    "dairy_categories = df[df['category'].isin(['milk', 'buttermilk', 'cheese'])]\n",
    "\n",
    "# Count the occurrences of each dairy category\n",
    "category_counts = dairy_categories['category'].value_counts()\n",
    "\n",
    "# Print the category column\n",
    "print(category_counts.index)\n"
   ]
  },
  {
   "cell_type": "markdown",
   "metadata": {},
   "source": [
    "### Now No values like \"milk,\" \"buttermilk,\" or \"cheese\" present in category column"
   ]
  },
  {
   "cell_type": "markdown",
   "metadata": {},
   "source": [
    "### Again calculatating total unque values in category column"
   ]
  },
  {
   "cell_type": "code",
   "execution_count": null,
   "metadata": {},
   "outputs": [
    {
     "data": {
      "text/plain": [
       "21"
      ]
     },
     "metadata": {},
     "output_type": "display_data"
    }
   ],
   "source": [
    "display(df['category'].nunique())"
   ]
  },
  {
   "cell_type": "markdown",
   "metadata": {},
   "source": [
    "### Now we get result 21 instead of 22 because of above analysis in dairy product combining"
   ]
  },
  {
   "cell_type": "markdown",
   "metadata": {},
   "source": [
    "### Display unique categories values in category column"
   ]
  },
  {
   "cell_type": "code",
   "execution_count": null,
   "metadata": {},
   "outputs": [
    {
     "data": {
      "text/plain": [
       "array(['fruit', 'vegetables', 'refrigerated items', 'frozen',\n",
       "       'spices and herbs', 'canned foods', 'packaged foods',\n",
       "       'condiments and sauces', 'beverages', 'dairy products', 'meat',\n",
       "       'seafood', 'baked goods', 'baking', 'snacks', 'baby products',\n",
       "       'pets', 'personal care', 'medicine', 'kitchen',\n",
       "       'cleaning products'], dtype=object)"
      ]
     },
     "execution_count": 37,
     "metadata": {},
     "output_type": "execute_result"
    }
   ],
   "source": [
    "df['category'].unique()"
   ]
  },
  {
   "cell_type": "markdown",
   "metadata": {},
   "source": [
    "### Distribution of Categories on Wednesdays\n",
    "### On wedsneday which category of product has been sold mostly after combining dairy products"
   ]
  },
  {
   "cell_type": "code",
   "execution_count": null,
   "metadata": {},
   "outputs": [
    {
     "data": {
      "image/png": "[encoded data removed]",
      "text/plain": [
       "<Figure size 1440x360 with 1 Axes>"
      ]
     },
     "metadata": {
      "needs_background": "light"
     },
     "output_type": "display_data"
    }
   ],
   "source": [
    "import matplotlib.pyplot as plt\n",
    "import numpy as np\n",
    "\n",
    "# Filter the dataset for transactions on Wednesdays\n",
    "wednesday_data = df[df['day_of_week'] == 'Wednesday']\n",
    "\n",
    "# Count the occurrences of each category on Wednesdays\n",
    "category_counts = wednesday_data['category'].value_counts().head(10)\n",
    "\n",
    "# Define a colormap with enough colors for each category\n",
    "colormap = plt.cm.get_cmap('tab20', len(category_counts))\n",
    "\n",
    "# Create a bar plot for category with count labels and unique colors for each bar\n",
    "plt.figure(figsize=(20, 5))\n",
    "bars = plt.bar(category_counts.index, category_counts, color=colormap(np.arange(len(category_counts))))\n",
    "\n",
    "# Add count labels on top of each bar\n",
    "for bar in bars:\n",
    "    yval = bar.get_height()\n",
    "    plt.text(bar.get_x() + bar.get_width() / 2, yval, yval, ha='center', va='bottom')\n",
    "\n",
    "# Set plot labels and title\n",
    "plt.xlabel('Category')\n",
    "plt.ylabel('Count')\n",
    "plt.title('Distribution of Categories on Wednesdays')\n",
    "\n",
    "# Show the plot\n",
    "plt.show()"
   ]
  },
  {
   "cell_type": "code",
   "execution_count": null,
   "metadata": {},
   "outputs": [],
   "source": [
    "# import matplotlib.pyplot as plt\n",
    "# import numpy as np\n",
    "\n",
    "# # Filter the dataset for transactions on Wednesdays\n",
    "# wednesday_data = df[df['day_of_week'] == '']\n",
    "\n",
    "# # Count the occurrences of each category on Wednesdays\n",
    "# category_counts = wednesday_data['category'].value_counts().head(10)\n",
    "\n",
    "# # Define a colormap with enough colors for each category\n",
    "# colormap = plt.cm.get_cmap('tab20', len(category_counts))\n",
    "\n",
    "# # Create a bar plot for category with count labels and unique colors for each bar\n",
    "# plt.figure(figsize=(20, 5))\n",
    "# bars = plt.bar(category_counts.index, category_counts, color=colormap(np.arange(len(category_counts))))\n",
    "\n",
    "# # Add count labels on top of each bar\n",
    "# for bar in bars:\n",
    "#     yval = bar.get_height()\n",
    "#     plt.text(bar.get_x() + bar.get_width() / 2, yval, yval, ha='center', va='bottom')\n",
    "\n",
    "# # Set plot labels and title\n",
    "# plt.xlabel('Category')\n",
    "# plt.ylabel('Count')\n",
    "# plt.title('Distribution of Categories on Wednesdays')\n",
    "\n",
    "# # Show the plot\n",
    "# plt.show()"
   ]
  },
  {
   "cell_type": "code",
   "execution_count": null,
   "metadata": {},
   "outputs": [],
   "source": [
    "df.to_csv('sales_analysis_data.csv', index=False)"
   ]
  },
  {
   "cell_type": "markdown",
   "metadata": {},
   "source": [
    "### Distribution of Product Types"
   ]
  },
  {
   "cell_type": "code",
   "execution_count": null,
   "metadata": {},
   "outputs": [
    {
     "data": {
      "image/png": "[encoded data removed]",
      "text/plain": [
       "<Figure size 1296x360 with 1 Axes>"
      ]
     },
     "metadata": {
      "needs_background": "light"
     },
     "output_type": "display_data"
    }
   ],
   "source": [
    "# Get the First 10 categories by count\n",
    "first_10_categories = df['category'].value_counts().sort_values(ascending=False).head(11)\n",
    "\n",
    "# Create a bar plot for the last 10 categories\n",
    "plt.figure(figsize=(18, 5))\n",
    "plt.bar(first_10_categories.index, first_10_categories)\n",
    "\n",
    "# Add count labels to each bar\n",
    "for i, count in enumerate(first_10_categories):\n",
    "    plt.text(i, count, str(count), ha='center', va='bottom')\n",
    "plt.xlabel('category')\n",
    "plt.ylabel('Count')\n",
    "plt.title('Distribution of Product Types')\n",
    "plt.show()"
   ]
  },
  {
   "cell_type": "markdown",
   "metadata": {},
   "source": [
    "### Some Additional Resources Analysis"
   ]
  },
  {
   "cell_type": "markdown",
   "metadata": {},
   "source": [
    "### 1. What are the top 10 best-selling products by total sales?"
   ]
  },
  {
   "cell_type": "code",
   "execution_count": null,
   "metadata": {},
   "outputs": [
    {
     "name": "stdout",
     "output_type": "stream",
     "text": [
      "category\n",
      "kitchen               14456.65\n",
      "dairy products        14412.87\n",
      "meat                  14102.31\n",
      "seafood               10754.81\n",
      "medicine              10393.78\n",
      "beverages              9930.64\n",
      "cleaning products      9483.75\n",
      "baked goods            8348.21\n",
      "refrigerated items     7436.45\n",
      "canned foods           6743.48\n",
      "Name: total, dtype: float64\n"
     ]
    }
   ],
   "source": [
    "\n",
    "# Calculate total sales per product\n",
    "product_sales = df.groupby('category')['total'].sum()\n",
    "\n",
    "# Get the top 10 best-selling products\n",
    "top_10_products = product_sales.nlargest(10)\n",
    "\n",
    "print(top_10_products)\n"
   ]
  },
  {
   "cell_type": "markdown",
   "metadata": {},
   "source": [
    "### 2. What is the average unit price for each category?"
   ]
  },
  {
   "cell_type": "code",
   "execution_count": null,
   "metadata": {},
   "outputs": [
    {
     "name": "stdout",
     "output_type": "stream",
     "text": [
      "category\n",
      "medicine                 17.148848\n",
      "seafood                  16.063518\n",
      "kitchen                  15.100995\n",
      "meat                     15.012513\n",
      "cleaning products        12.802671\n",
      "beverages                12.624551\n",
      "baby products            12.285536\n",
      "pets                     10.578820\n",
      "frozen                   10.071369\n",
      "personal care             9.198475\n",
      "dairy products            8.274731\n",
      "baked goods               7.619797\n",
      "refrigerated items        6.922235\n",
      "condiments and sauces     6.886685\n",
      "canned foods              6.269350\n",
      "baking                    5.342273\n",
      "packaged foods            4.924714\n",
      "spices and herbs          3.080400\n",
      "fruit                     2.503627\n",
      "snacks                    2.378593\n",
      "vegetables                2.368369\n",
      "Name: unit_price, dtype: float64\n"
     ]
    }
   ],
   "source": [
    "\n",
    "# Calculate the average unit price per category\n",
    "average_unit_price = df.groupby('category')['unit_price'].mean().sort_values(ascending=False)\n",
    "\n",
    "print(average_unit_price)\n"
   ]
  },
  {
   "cell_type": "markdown",
   "metadata": {},
   "source": [
    "### 3. How does the quantity of products sold vary by customer type?"
   ]
  },
  {
   "cell_type": "code",
   "execution_count": null,
   "metadata": {},
   "outputs": [
    {
     "name": "stdout",
     "output_type": "stream",
     "text": [
      "customer_type\n",
      "basic         2.486239\n",
      "gold          2.499011\n",
      "non-member    2.483448\n",
      "premium       2.510692\n",
      "standard      2.527900\n",
      "Name: quantity, dtype: float64\n"
     ]
    }
   ],
   "source": [
    "\n",
    "# Calculate the average quantity per customer type\n",
    "average_quantity_by_customer_type = df.groupby('customer_type')['quantity'].mean()\n",
    "\n",
    "print(average_quantity_by_customer_type)\n"
   ]
  },
  {
   "cell_type": "markdown",
   "metadata": {},
   "source": [
    "###  Conclusion no major differences"
   ]
  },
  {
   "cell_type": "markdown",
   "metadata": {},
   "source": [
    "### 4. How does the average sales vary across different days of the week?"
   ]
  },
  {
   "cell_type": "code",
   "execution_count": null,
   "metadata": {},
   "outputs": [
    {
     "name": "stdout",
     "output_type": "stream",
     "text": [
      "day_of_week\n",
      "Friday       20.092635\n",
      "Monday       20.187654\n",
      "Saturday     20.300773\n",
      "Sunday       19.316069\n",
      "Thursday     19.856651\n",
      "Tuesday      19.042026\n",
      "Wednesday    19.264375\n",
      "Name: total, dtype: float64\n"
     ]
    }
   ],
   "source": [
    "\n",
    "# Calculate average sales per day of the week\n",
    "average_sales_by_day = df.groupby('day_of_week')['total'].mean()\n",
    "\n",
    "print(average_sales_by_day)\n"
   ]
  },
  {
   "cell_type": "markdown",
   "metadata": {},
   "source": [
    "### 5. Which category has the highest average quantity of products sold per transaction?"
   ]
  },
  {
   "cell_type": "code",
   "execution_count": null,
   "metadata": {},
   "outputs": [
    {
     "name": "stdout",
     "output_type": "stream",
     "text": [
      "Category with the highest average quantity: seafood\n"
     ]
    }
   ],
   "source": [
    "\n",
    "# Calculate the average quantity per category\n",
    "average_quantity_by_category = df.groupby('category')['quantity'].mean()\n",
    "\n",
    "# Find the category with the highest average quantity\n",
    "highest_avg_quantity_category = average_quantity_by_category.idxmax()\n",
    "\n",
    "print(\"Category with the highest average quantity:\", highest_avg_quantity_category)\n"
   ]
  },
  {
   "cell_type": "markdown",
   "metadata": {},
   "source": [
    "### 6. How does the average total sales vary for different customer types on each day of the week?"
   ]
  },
  {
   "cell_type": "code",
   "execution_count": null,
   "metadata": {},
   "outputs": [
    {
     "name": "stdout",
     "output_type": "stream",
     "text": [
      "customer_type      basic       gold  non-member    premium   standard\n",
      "day_of_week                                                          \n",
      "Friday         19.426889  20.188935   20.386062  19.869626  20.578987\n",
      "Monday         21.087887  20.119252   21.220793  20.151709  18.544596\n",
      "Saturday       20.254978  21.831343   20.676770  18.235140  20.591165\n",
      "Sunday         19.290046  17.401156   20.440415  19.529292  19.593433\n",
      "Thursday       18.560350  22.224249   19.329128  19.937149  19.418707\n",
      "Tuesday        18.660306  18.469748   17.557511  20.730283  19.664292\n",
      "Wednesday      18.531810  18.506445   19.191555  20.840388  19.504449\n"
     ]
    }
   ],
   "source": [
    "\n",
    "# Calculate average total sales per day and customer type\n",
    "avg_sales_by_day_customer_type = df.groupby(['day_of_week', 'customer_type'])['total'].mean().unstack()\n",
    "\n",
    "print(avg_sales_by_day_customer_type)\n"
   ]
  },
  {
   "cell_type": "markdown",
   "metadata": {},
   "source": [
    "### What is the distribution of sales by payment type?"
   ]
  },
  {
   "cell_type": "code",
   "execution_count": null,
   "metadata": {},
   "outputs": [
    {
     "data": {
      "image/png": "[encoded data removed]",
      "text/plain": [
       "<Figure size 576x576 with 1 Axes>"
      ]
     },
     "metadata": {},
     "output_type": "display_data"
    }
   ],
   "source": [
    "# Calculate total sales per payment type\n",
    "payment_type_sales = df.groupby('payment_type')['total'].sum()\n",
    "\n",
    "# Create a pie chart to visualize the distribution\n",
    "plt.figure(figsize=(8, 8))\n",
    "plt.pie(payment_type_sales, labels=payment_type_sales.index, autopct='%1.1f%%')\n",
    "plt.title('Distribution of Sales by Payment Type')\n",
    "plt.axis('equal')\n",
    "plt.show()"
   ]
  },
  {
   "cell_type": "markdown",
   "metadata": {},
   "source": [
    "### What is the correlation between unit price and total sales?"
   ]
  },
  {
   "cell_type": "code",
   "execution_count": null,
   "metadata": {},
   "outputs": [
    {
     "name": "stdout",
     "output_type": "stream",
     "text": [
      "Correlation between Unit Price and Total Sales: 0.7920178712859146\n"
     ]
    }
   ],
   "source": [
    "\n",
    "# Calculate the correlation between 'unit_price' and 'total'\n",
    "correlation = df['unit_price'].corr(df['total'])\n",
    "\n",
    "print(\"Correlation between Unit Price and Total Sales:\", correlation)\n",
    "\n",
    "### above the correlation value of approximately 0.792 indicates a moderately strong positive linear relationship between the 'unit_price' and 'total' columns. This means that as the 'unit_price' increases, the 'total' sales also tend to increase, and vice versa."
   ]
  },
  {
   "cell_type": "markdown",
   "metadata": {},
   "source": [
    "### What is the distribution of unit prices for each category?"
   ]
  },
  {
   "cell_type": "code",
   "execution_count": null,
   "metadata": {},
   "outputs": [
    {
     "data": {
      "image/png": "[encoded data removed]",
      "text/plain": [
       "<Figure size 1296x360 with 1 Axes>"
      ]
     },
     "metadata": {
      "needs_background": "light"
     },
     "output_type": "display_data"
    }
   ],
   "source": [
    "\n",
    "\n",
    "import seaborn as sns\n",
    "# Create box plots to visualize the distribution of unit prices for each category\n",
    "plt.figure(figsize=(18, 5))\n",
    "sns.boxplot(x='category', y='unit_price', data=df)\n",
    "plt.xlabel('Category')\n",
    "plt.ylabel('Unit Price')\n",
    "plt.title('Distribution of Unit Prices for Each Category')\n",
    "plt.xticks(rotation=45)\n",
    "plt.show()\n"
   ]
  }
 ],
 "metadata": {
  "kernelspec": {
   "display_name": "Python 3",
   "language": "python",
   "name": "python3"
  },
  "language_info": {
   "codemirror_mode": {
    "name": "ipython",
    "version": 3
   },
   "file_extension": ".py",
   "mimetype": "text/x-python",
   "name": "python",
   "nbconvert_exporter": "python",
   "pygments_lexer": "ipython3",
   "version": "3.8.19"
  },
  "orig_nbformat": 4
 },
 "nbformat": 4,
 "nbformat_minor": 2
}
